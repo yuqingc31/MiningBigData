{
 "cells": [
  {
   "cell_type": "markdown",
   "id": "6730fecf",
   "metadata": {},
   "source": [
    "## Assignment 1b: Time Series Forecasting\n",
    "\n",
    "### \\yuqing chen \\a1841612\n",
    "\n",
    "#### Follow detail instructions in the assignment specification and use these heading for implementation and discussion"
   ]
  },
  {
   "cell_type": "markdown",
   "id": "3df2aac6",
   "metadata": {},
   "source": [
    "### 1. Read the dataset"
   ]
  },
  {
   "cell_type": "code",
   "execution_count": 1,
   "id": "e967e07b",
   "metadata": {},
   "outputs": [
    {
     "name": "stderr",
     "output_type": "stream",
     "text": [
      "/var/folders/n3/ddr1nygd4b11p0zv8kwtqx3w0000gn/T/ipykernel_3057/1264679884.py:1: DeprecationWarning: \n",
      "Pyarrow will become a required dependency of pandas in the next major release of pandas (pandas 3.0),\n",
      "(to allow more performant data types, such as the Arrow string type, and better interoperability with other libraries)\n",
      "but was not found to be installed on your system.\n",
      "If this would cause problems for you,\n",
      "please provide us feedback at https://github.com/pandas-dev/pandas/issues/54466\n",
      "        \n",
      "  import pandas as pd\n"
     ]
    }
   ],
   "source": [
    "import pandas as pd\n",
    "import numpy as np\n",
    "\n",
    "# load the data from the dataset\n",
    "file_path = 'energydata_complete.csv'\n",
    "df = pd.read_csv(file_path)"
   ]
  },
  {
   "cell_type": "code",
   "execution_count": 2,
   "id": "9e63a1bb",
   "metadata": {},
   "outputs": [
    {
     "name": "stdout",
     "output_type": "stream",
     "text": [
      "               date  Appliances  lights     T1       RH_1    T2       RH_2  \\\n",
      "0  11/01/2016 17:00          60      30  19.89  47.596667  19.2  44.790000   \n",
      "1  11/01/2016 17:10          60      30  19.89  46.693333  19.2  44.722500   \n",
      "2  11/01/2016 17:20          50      30  19.89  46.300000  19.2  44.626667   \n",
      "3  11/01/2016 17:30          50      40  19.89  46.066667  19.2  44.590000   \n",
      "4  11/01/2016 17:40          60      40  19.89  46.333333  19.2  44.530000   \n",
      "\n",
      "      T3       RH_3         T4  ...         T9   RH_9  T_out  Press_mm_hg  \\\n",
      "0  19.79  44.730000  19.000000  ...  17.033333  45.53   6.60        733.5   \n",
      "1  19.79  44.790000  19.000000  ...  17.066667  45.56   6.48        733.6   \n",
      "2  19.79  44.933333  18.926667  ...  17.000000  45.50   6.37        733.7   \n",
      "3  19.79  45.000000  18.890000  ...  17.000000  45.40   6.25        733.8   \n",
      "4  19.79  45.000000  18.890000  ...  17.000000  45.40   6.13        733.9   \n",
      "\n",
      "   RH_out  Windspeed  Visibility  Tdewpoint        rv1        rv2  \n",
      "0    92.0   7.000000   63.000000        5.3  13.275433  13.275433  \n",
      "1    92.0   6.666667   59.166667        5.2  18.606195  18.606195  \n",
      "2    92.0   6.333333   55.333333        5.1  28.642668  28.642668  \n",
      "3    92.0   6.000000   51.500000        5.0  45.410390  45.410390  \n",
      "4    92.0   5.666667   47.666667        4.9  10.084097  10.084097  \n",
      "\n",
      "[5 rows x 29 columns]\n"
     ]
    }
   ],
   "source": [
    "# check if the data is loaded successfully\n",
    "print(df.head())"
   ]
  },
  {
   "cell_type": "markdown",
   "id": "31d75afc",
   "metadata": {},
   "source": [
    "### 2. Analyse and visualise the data"
   ]
  },
  {
   "cell_type": "code",
   "execution_count": 3,
   "id": "2d286790",
   "metadata": {},
   "outputs": [
    {
     "name": "stdout",
     "output_type": "stream",
     "text": [
      "<class 'pandas.core.frame.DataFrame'>\n",
      "RangeIndex: 19735 entries, 0 to 19734\n",
      "Data columns (total 29 columns):\n",
      " #   Column       Non-Null Count  Dtype  \n",
      "---  ------       --------------  -----  \n",
      " 0   date         19735 non-null  object \n",
      " 1   Appliances   19735 non-null  int64  \n",
      " 2   lights       19735 non-null  int64  \n",
      " 3   T1           19735 non-null  float64\n",
      " 4   RH_1         19735 non-null  float64\n",
      " 5   T2           19735 non-null  float64\n",
      " 6   RH_2         19735 non-null  float64\n",
      " 7   T3           19735 non-null  float64\n",
      " 8   RH_3         19735 non-null  float64\n",
      " 9   T4           19735 non-null  float64\n",
      " 10  RH_4         19735 non-null  float64\n",
      " 11  T5           19735 non-null  float64\n",
      " 12  RH_5         19735 non-null  float64\n",
      " 13  T6           19735 non-null  float64\n",
      " 14  RH_6         19735 non-null  float64\n",
      " 15  T7           19735 non-null  float64\n",
      " 16  RH_7         19735 non-null  float64\n",
      " 17  T8           19735 non-null  float64\n",
      " 18  RH_8         19735 non-null  float64\n",
      " 19  T9           19735 non-null  float64\n",
      " 20  RH_9         19735 non-null  float64\n",
      " 21  T_out        19735 non-null  float64\n",
      " 22  Press_mm_hg  19735 non-null  float64\n",
      " 23  RH_out       19735 non-null  float64\n",
      " 24  Windspeed    19735 non-null  float64\n",
      " 25  Visibility   19735 non-null  float64\n",
      " 26  Tdewpoint    19735 non-null  float64\n",
      " 27  rv1          19735 non-null  float64\n",
      " 28  rv2          19735 non-null  float64\n",
      "dtypes: float64(26), int64(2), object(1)\n",
      "memory usage: 4.4+ MB\n"
     ]
    }
   ],
   "source": [
    "df.info()"
   ]
  },
  {
   "cell_type": "code",
   "execution_count": 4,
   "id": "85c3bf07",
   "metadata": {},
   "outputs": [
    {
     "name": "stdout",
     "output_type": "stream",
     "text": [
      "                   date  Appliances  lights         T1       RH_1    T2  \\\n",
      "0   2016-01-11 17:00:00          60      30  19.890000  47.596667  19.2   \n",
      "1   2016-01-11 17:10:00          60      30  19.890000  46.693333  19.2   \n",
      "2   2016-01-11 17:20:00          50      30  19.890000  46.300000  19.2   \n",
      "3   2016-01-11 17:30:00          50      40  19.890000  46.066667  19.2   \n",
      "4   2016-01-11 17:40:00          60      40  19.890000  46.333333  19.2   \n",
      "..                  ...         ...     ...        ...        ...   ...   \n",
      "695 2016-01-16 12:50:00          90       0  22.075000  40.045000  21.3   \n",
      "696 2016-01-16 13:00:00          90       0  22.000000  39.223333  21.1   \n",
      "697 2016-01-16 13:10:00         100       0  22.000000  39.626667  21.1   \n",
      "698 2016-01-16 13:20:00          80       0  22.000000  39.566667  21.1   \n",
      "699 2016-01-16 13:30:00          90       0  21.963333  39.560000  21.1   \n",
      "\n",
      "          RH_2         T3       RH_3         T4  ...  T_out  Press_mm_hg  \\\n",
      "0    44.790000  19.790000  44.730000  19.000000  ...   6.60   733.500000   \n",
      "1    44.722500  19.790000  44.790000  19.000000  ...   6.48   733.600000   \n",
      "2    44.626667  19.790000  44.933333  18.926667  ...   6.37   733.700000   \n",
      "3    44.590000  19.790000  45.000000  18.890000  ...   6.25   733.800000   \n",
      "4    44.530000  19.790000  45.000000  18.890000  ...   6.13   733.900000   \n",
      "..         ...        ...        ...        ...  ...    ...          ...   \n",
      "695  38.923333  21.033333  41.723333  20.196667  ...   5.70   763.733333   \n",
      "696  37.950000  20.890000  40.990000  20.100000  ...   5.90   763.700000   \n",
      "697  38.156667  20.963333  40.790000  20.166667  ...   5.88   763.700000   \n",
      "698  38.363333  21.000000  40.826667  20.166667  ...   5.87   763.700000   \n",
      "699  38.500000  21.000000  40.900000  20.166667  ...   5.85   763.700000   \n",
      "\n",
      "        RH_out  Windspeed  Visibility  Tdewpoint        rv1        rv2  \\\n",
      "0    92.000000   7.000000   63.000000      5.300  13.275433  13.275433   \n",
      "1    92.000000   6.666667   59.166667      5.200  18.606195  18.606195   \n",
      "2    92.000000   6.333333   55.333333      5.100  28.642668  28.642668   \n",
      "3    92.000000   6.000000   51.500000      5.000  45.410390  45.410390   \n",
      "4    92.000000   5.666667   47.666667      4.900  10.084097  10.084097   \n",
      "..         ...        ...         ...        ...        ...        ...   \n",
      "695  69.500000   4.666667   26.333333      0.450  27.965514  27.965514   \n",
      "696  66.000000   5.000000   27.000000      0.000  39.454724  39.454724   \n",
      "697  68.333333   4.833333   29.166667      0.417   8.385763   8.385763   \n",
      "698  70.666667   4.666667   31.333333      0.833  48.522587  48.522587   \n",
      "699  73.000000   4.500000   33.500000      1.250  23.675155  23.675155   \n",
      "\n",
      "         NSM  weekend  \n",
      "0    61200.0        0  \n",
      "1    61800.0        0  \n",
      "2    62400.0        0  \n",
      "3    63000.0        0  \n",
      "4    63600.0        0  \n",
      "..       ...      ...  \n",
      "695  46200.0        1  \n",
      "696  46800.0        1  \n",
      "697  47400.0        1  \n",
      "698  48000.0        1  \n",
      "699  48600.0        1  \n",
      "\n",
      "[700 rows x 31 columns]\n"
     ]
    }
   ],
   "source": [
    "import pandas as pd\n",
    "\n",
    "# Specify the datetime format as '%d/%m/%Y %H:%M'\n",
    "df['date'] = pd.to_datetime(df['date'], format='%d/%m/%Y %H:%M')\n",
    "\n",
    "# Generate NSM (number of seconds per day from midnight)\n",
    "df['NSM'] = (df['date'] - df['date'].dt.normalize()).dt.total_seconds()\n",
    "\n",
    "# status of weekend and weekday (0 = weekday, 1 = weekend)\n",
    "df['weekend'] = df['date'].dt.dayofweek // 5\n",
    "\n",
    "# load the data and check if these two columns are correctly added\n",
    "print(df.head(700))"
   ]
  },
  {
   "cell_type": "code",
   "execution_count": 5,
   "id": "a4a3da22",
   "metadata": {},
   "outputs": [
    {
     "name": "stdout",
     "output_type": "stream",
     "text": [
      "<class 'pandas.core.frame.DataFrame'>\n",
      "RangeIndex: 19735 entries, 0 to 19734\n",
      "Data columns (total 31 columns):\n",
      " #   Column       Non-Null Count  Dtype         \n",
      "---  ------       --------------  -----         \n",
      " 0   date         19735 non-null  datetime64[ns]\n",
      " 1   Appliances   19735 non-null  int64         \n",
      " 2   lights       19735 non-null  int64         \n",
      " 3   T1           19735 non-null  float64       \n",
      " 4   RH_1         19735 non-null  float64       \n",
      " 5   T2           19735 non-null  float64       \n",
      " 6   RH_2         19735 non-null  float64       \n",
      " 7   T3           19735 non-null  float64       \n",
      " 8   RH_3         19735 non-null  float64       \n",
      " 9   T4           19735 non-null  float64       \n",
      " 10  RH_4         19735 non-null  float64       \n",
      " 11  T5           19735 non-null  float64       \n",
      " 12  RH_5         19735 non-null  float64       \n",
      " 13  T6           19735 non-null  float64       \n",
      " 14  RH_6         19735 non-null  float64       \n",
      " 15  T7           19735 non-null  float64       \n",
      " 16  RH_7         19735 non-null  float64       \n",
      " 17  T8           19735 non-null  float64       \n",
      " 18  RH_8         19735 non-null  float64       \n",
      " 19  T9           19735 non-null  float64       \n",
      " 20  RH_9         19735 non-null  float64       \n",
      " 21  T_out        19735 non-null  float64       \n",
      " 22  Press_mm_hg  19735 non-null  float64       \n",
      " 23  RH_out       19735 non-null  float64       \n",
      " 24  Windspeed    19735 non-null  float64       \n",
      " 25  Visibility   19735 non-null  float64       \n",
      " 26  Tdewpoint    19735 non-null  float64       \n",
      " 27  rv1          19735 non-null  float64       \n",
      " 28  rv2          19735 non-null  float64       \n",
      " 29  NSM          19735 non-null  float64       \n",
      " 30  weekend      19735 non-null  int32         \n",
      "dtypes: datetime64[ns](1), float64(27), int32(1), int64(2)\n",
      "memory usage: 4.6 MB\n"
     ]
    }
   ],
   "source": [
    "df.info()"
   ]
  },
  {
   "cell_type": "markdown",
   "id": "49d0bf2a",
   "metadata": {},
   "source": [
    "### 3. Pre-process the data"
   ]
  },
  {
   "cell_type": "code",
   "execution_count": 6,
   "id": "7241f20a",
   "metadata": {},
   "outputs": [
    {
     "name": "stdout",
     "output_type": "stream",
     "text": [
      "                     date  Appliances  lights         T1       RH_1  \\\n",
      "11    2016-01-11 18:50:00         580      60  20.066667  46.396667   \n",
      "12    2016-01-11 19:00:00         430      50  20.133333  48.000000   \n",
      "31    2016-01-11 22:10:00         400      20  21.533333  44.966667   \n",
      "32    2016-01-11 22:20:00         400      20  21.600000  44.766667   \n",
      "33    2016-01-11 22:30:00         390      30  21.600000  44.560000   \n",
      "...                   ...         ...     ...        ...        ...   \n",
      "19704 2016-05-27 13:00:00         370       0  24.890000  47.730000   \n",
      "19705 2016-05-27 13:10:00         280       0  25.033333  48.363333   \n",
      "19732 2016-05-27 17:40:00         270      10  25.500000  46.596667   \n",
      "19733 2016-05-27 17:50:00         420      10  25.500000  46.990000   \n",
      "19734 2016-05-27 18:00:00         430      10  25.500000  46.600000   \n",
      "\n",
      "              T2       RH_2         T3       RH_3         T4  ...  T_out  \\\n",
      "11     19.426667  44.400000  19.790000  44.826667  19.000000  ...   5.98   \n",
      "12     19.566667  44.400000  19.890000  44.900000  19.000000  ...   6.00   \n",
      "31     20.790000  44.360000  20.426667  45.933333  19.600000  ...   5.65   \n",
      "32     20.890000  44.223333  20.500000  45.933333  19.696667  ...   5.70   \n",
      "33     20.963333  43.963333  20.500000  45.790000  20.096667  ...   5.75   \n",
      "...          ...        ...        ...        ...        ...  ...    ...   \n",
      "19704  26.500000  40.460000  28.730000  42.156667  24.500000  ...  21.10   \n",
      "19705  26.528571  40.595714  28.496667  41.900000  24.500000  ...  21.30   \n",
      "19732  25.628571  42.768571  27.050000  41.690000  24.700000  ...  22.50   \n",
      "19733  25.414000  43.036000  26.890000  41.290000  24.700000  ...  22.30   \n",
      "19734  25.264286  42.971429  26.823333  41.156667  24.700000  ...  22.20   \n",
      "\n",
      "       Press_mm_hg     RH_out  Windspeed  Visibility  Tdewpoint        rv1  \\\n",
      "11      734.433333  91.166667   5.833333   40.000000       4.62   8.827838   \n",
      "12      734.500000  91.000000   6.000000   40.000000       4.60  34.351142   \n",
      "31      735.883333  87.833333   6.166667   40.000000       3.72  29.978291   \n",
      "32      735.966667  87.666667   6.333333   40.000000       3.73  24.677065   \n",
      "33      736.050000  87.500000   6.500000   40.000000       3.75   9.310880   \n",
      "...            ...        ...        ...         ...        ...        ...   \n",
      "19704   756.100000  60.000000   1.000000   24.000000      13.00  48.686116   \n",
      "19705   756.050000  59.833333   1.166667   23.666667      13.10  32.420348   \n",
      "19732   755.200000  56.333333   3.666667   25.333333      13.30  29.199117   \n",
      "19733   755.200000  56.666667   3.833333   26.166667      13.20   6.322784   \n",
      "19734   755.200000  57.000000   4.000000   27.000000      13.20  34.118851   \n",
      "\n",
      "             rv2      NSM  weekend  \n",
      "11      8.827838  67800.0        0  \n",
      "12     34.351142  68400.0        0  \n",
      "31     29.978291  79800.0        0  \n",
      "32     24.677065  80400.0        0  \n",
      "33      9.310880  81000.0        0  \n",
      "...          ...      ...      ...  \n",
      "19704  48.686116  46800.0        0  \n",
      "19705  32.420348  47400.0        0  \n",
      "19732  29.199117  63600.0        0  \n",
      "19733   6.322784  64200.0        0  \n",
      "19734  34.118851  64800.0        0  \n",
      "\n",
      "[1531 rows x 31 columns]\n"
     ]
    }
   ],
   "source": [
    "outlier_rows = df[df['Appliances'] > 250]\n",
    "print(outlier_rows)"
   ]
  },
  {
   "cell_type": "code",
   "execution_count": 7,
   "id": "ad286580",
   "metadata": {},
   "outputs": [
    {
     "name": "stdout",
     "output_type": "stream",
     "text": [
      "count    18204.000000\n",
      "mean        72.153922\n",
      "std         38.871238\n",
      "min         10.000000\n",
      "25%         50.000000\n",
      "50%         60.000000\n",
      "75%         90.000000\n",
      "max        250.000000\n",
      "Name: Appliances, dtype: float64\n"
     ]
    }
   ],
   "source": [
    "# delete the outliers\n",
    "df = df.drop(outlier_rows.index)\n",
    "\n",
    "print(df['Appliances'].describe())"
   ]
  },
  {
   "cell_type": "code",
   "execution_count": 8,
   "id": "f7bbabef",
   "metadata": {},
   "outputs": [
    {
     "name": "stdout",
     "output_type": "stream",
     "text": [
      "date           0\n",
      "Appliances     0\n",
      "lights         0\n",
      "T1             0\n",
      "RH_1           0\n",
      "T2             0\n",
      "RH_2           0\n",
      "T3             0\n",
      "RH_3           0\n",
      "T4             0\n",
      "RH_4           0\n",
      "T5             0\n",
      "RH_5           0\n",
      "T6             0\n",
      "RH_6           0\n",
      "T7             0\n",
      "RH_7           0\n",
      "T8             0\n",
      "RH_8           0\n",
      "T9             0\n",
      "RH_9           0\n",
      "T_out          0\n",
      "Press_mm_hg    0\n",
      "RH_out         0\n",
      "Windspeed      0\n",
      "Visibility     0\n",
      "Tdewpoint      0\n",
      "rv1            0\n",
      "rv2            0\n",
      "NSM            0\n",
      "weekend        0\n",
      "dtype: int64\n"
     ]
    }
   ],
   "source": [
    "missing_values = df.isna().sum()\n",
    "\n",
    "print(missing_values)"
   ]
  },
  {
   "cell_type": "markdown",
   "id": "333cefa8",
   "metadata": {},
   "source": [
    "### 4. Implement, train and test prediction models"
   ]
  },
  {
   "cell_type": "code",
   "execution_count": null,
   "id": "c292820d",
   "metadata": {},
   "outputs": [],
   "source": []
  },
  {
   "cell_type": "markdown",
   "id": "ba7ea3a2",
   "metadata": {},
   "source": [
    "### 5. Compare the results from all candidate models, choose the best model, justify your choice and discuss the results\n",
    "\n",
    "\n",
    "Compare with the results you have obtained in Assignment 1a."
   ]
  },
  {
   "cell_type": "markdown",
   "id": "8d9ff3f9",
   "metadata": {},
   "source": [
    "### 6. Reflect on what you have learned by completing this assignment and how to improve the models"
   ]
  },
  {
   "cell_type": "code",
   "execution_count": null,
   "id": "99cf2087",
   "metadata": {},
   "outputs": [],
   "source": []
  },
  {
   "cell_type": "markdown",
   "id": "9d3a91b4",
   "metadata": {},
   "source": [
    "### 7. References"
   ]
  },
  {
   "cell_type": "markdown",
   "id": "f89d43fa",
   "metadata": {},
   "source": []
  }
 ],
 "metadata": {
  "kernelspec": {
   "display_name": "Python 3 (ipykernel)",
   "language": "python",
   "name": "python3"
  },
  "language_info": {
   "codemirror_mode": {
    "name": "ipython",
    "version": 3
   },
   "file_extension": ".py",
   "mimetype": "text/x-python",
   "name": "python",
   "nbconvert_exporter": "python",
   "pygments_lexer": "ipython3",
   "version": "3.0.0"
  }
 },
 "nbformat": 4,
 "nbformat_minor": 5
}
