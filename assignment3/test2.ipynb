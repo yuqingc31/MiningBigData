{
 "cells": [
  {
   "cell_type": "code",
   "execution_count": null,
   "metadata": {},
   "outputs": [],
   "source": [
    "import pandas as pd\n",
    "import numpy as np\n",
    "\n",
    "train_data_original = pd.read_csv(\"basket_data_by_date_train_big.csv\")\n",
    "test_data_original = pd.read_csv(\"basket_data_by_date_test.csv\")"
   ]
  },
  {
   "cell_type": "code",
   "execution_count": null,
   "metadata": {},
   "outputs": [],
   "source": [
    "# delete unrelated columns\n",
    "train_data = train_data_original.drop(columns=['BillNo', 'Date', 'Price', 'cost'])\n",
    "test_data = test_data_original.drop(columns=['BillNo', 'Date', 'Price', 'cost'])"
   ]
  },
  {
   "cell_type": "code",
   "execution_count": null,
   "metadata": {},
   "outputs": [],
   "source": [
    "train_data.info()\n",
    "test_data.info()"
   ]
  },
  {
   "cell_type": "code",
   "execution_count": null,
   "metadata": {},
   "outputs": [],
   "source": [
    "import matplotlib.pyplot as plt\n",
    "\n",
    "# 计算每个商品的购买数量\n",
    "item_purchase_count = train_data['Itemname'].value_counts()\n",
    "\n",
    "# 过滤购买数量大于50的商品\n",
    "popular_items = item_purchase_count[item_purchase_count > 50]\n",
    "\n",
    "# 可视化\n",
    "plt.figure(figsize=(10, 6))\n",
    "popular_items.plot(kind='bar')\n",
    "plt.title('Items with Purchase Count > 50')\n",
    "plt.xlabel('Item Name')\n",
    "plt.ylabel('Purchase Count')\n",
    "plt.xticks(rotation=45, ha='right')\n",
    "plt.tight_layout()\n",
    "plt.show()"
   ]
  },
  {
   "cell_type": "code",
   "execution_count": null,
   "metadata": {},
   "outputs": [],
   "source": [
    "item_purchase_count = train_data['Itemname'].value_counts()\n",
    "popular_items = item_purchase_count[item_purchase_count > 50]\n",
    "\n",
    "# 过滤出购买数量大于50的商品数据\n",
    "train_data = train_data[train_data['Itemname'].isin(popular_items.index)]"
   ]
  },
  {
   "cell_type": "code",
   "execution_count": null,
   "metadata": {},
   "outputs": [],
   "source": [
    "import pandas as pd\n",
    "\n",
    "# 找到测试数据和训练数据中共同出现的商品名称和顾客ID\n",
    "common_item_names = set(test_data['Itemname']).intersection(set(train_data['Itemname']))\n",
    "common_customer_ids = set(test_data['CustomerID']).intersection(set(train_data['CustomerID']))\n",
    "\n",
    "test_data = test_data[test_data['Itemname'].isin(common_item_names)]\n",
    "test_data = test_data[test_data['CustomerID'].isin(common_customer_ids)]\n",
    "\n",
    "train_data = train_data[train_data['Itemname'].isin(common_item_names)]\n",
    "train_data = train_data[train_data['CustomerID'].isin(common_customer_ids)]"
   ]
  },
  {
   "cell_type": "code",
   "execution_count": null,
   "metadata": {},
   "outputs": [],
   "source": [
    "# 找出train_data中存在但test_data中不存在的商品名称和顾客ID\n",
    "train_item_names = set(train_data['Itemname'])\n",
    "train_customer_ids = set(train_data['CustomerID'])\n",
    "\n",
    "extra_item_names_train = train_item_names - common_item_names\n",
    "extra_customer_ids_train = train_customer_ids - common_customer_ids\n",
    "\n",
    "# 找出test_data中存在但train_data中不存在的商品名称和顾客ID\n",
    "test_item_names = set(test_data['Itemname'])\n",
    "test_customer_ids = set(test_data['CustomerID'])\n",
    "\n",
    "extra_item_names_test = test_item_names - common_item_names\n",
    "extra_customer_ids_test = test_customer_ids - common_customer_ids\n",
    "\n",
    "print(\"Train data中存在但test data中不存在的商品名称:\", extra_item_names_train)\n",
    "print(\"Train data中存在但test data中不存在的顾客ID:\", extra_customer_ids_train)\n",
    "\n",
    "print(\"Test data中存在但train data中不存在的商品名称:\", extra_item_names_test)\n",
    "print(\"Test data中存在但train data中不存在的顾客ID:\", extra_customer_ids_test)\n"
   ]
  },
  {
   "cell_type": "code",
   "execution_count": null,
   "metadata": {},
   "outputs": [],
   "source": [
    "train_data.info()\n",
    "test_data.info()"
   ]
  },
  {
   "cell_type": "code",
   "execution_count": null,
   "metadata": {},
   "outputs": [],
   "source": [
    "# identify the users unique to the test set\n",
    "unique_users = train_data['CustomerID'].unique()\n",
    "unique_items = train_data['Itemname'].unique()\n",
    "\n",
    "user_item_matrix = pd.DataFrame(index=unique_users, columns=unique_items)\n",
    "\n",
    "# iterate over the rows in the train set and fill in the user-item matrix\n",
    "for index, row in train_data.iterrows():\n",
    "    user_id = row['CustomerID']\n",
    "    item_id = row['Itemname']\n",
    "    rating = row['Quantity']\n",
    "    user_item_matrix.loc[user_id, item_id] = rating\n",
    "\n",
    "# fill in the missing values with 0\n",
    "user_item_matrix.fillna(0, inplace=True)\n",
    "\n",
    "# check the user-item matrix\n",
    "user_item_matrix.iloc[:10, :20]"
   ]
  },
  {
   "cell_type": "code",
   "execution_count": null,
   "metadata": {},
   "outputs": [],
   "source": [
    "user_item_matrix_array = user_item_matrix.values\n",
    "user_item_matrix_array"
   ]
  },
  {
   "cell_type": "code",
   "execution_count": null,
   "metadata": {},
   "outputs": [],
   "source": [
    "user_item_matrix_customers = user_item_matrix.index\n",
    "user_item_matrix_customers"
   ]
  },
  {
   "cell_type": "code",
   "execution_count": null,
   "metadata": {},
   "outputs": [],
   "source": [
    "def similarity(user1, user2):\n",
    "    # Calculate the dot product of the two user vectors\n",
    "    dot_product = np.dot(user1, user2)\n",
    "    # Calculate the magnitude of the two user vectors\n",
    "    magnitude = np.sqrt(np.sum(user1 ** 2) * np.sum(user2 ** 2))\n",
    "    # Calculate the similarity between the two users\n",
    "    similarity = dot_product/magnitude\n",
    "    return similarity"
   ]
  },
  {
   "cell_type": "code",
   "execution_count": null,
   "metadata": {},
   "outputs": [],
   "source": [
    "def predict_rating(user_ratings, item_ratings):\n",
    "    # 找到已评分item的用户索引\n",
    "    rated_indices = np.where(item_ratings != 0)[0]\n",
    "\n",
    "    # 获取电影的评分\n",
    "    ratings = item_ratings[rated_indices]\n",
    "\n",
    "    # 获取已评分用户的用户向量\n",
    "    rated_users = user_ratings[rated_indices]\n",
    "\n",
    "    # 计算已评分用户与目标用户之间的相似度\n",
    "    similarities = [similarity(user_ratings[0], rated_users[i]) for i in range(len(rated_indices))]\n",
    "    \n",
    "    # 使用相似度作为权重计算加权平均评分\n",
    "    weighted_sum = np.dot(similarities, ratings)\n",
    "    weighted_sum /= np.sum(similarities)\n",
    "    return weighted_sum"
   ]
  },
  {
   "cell_type": "code",
   "execution_count": null,
   "metadata": {},
   "outputs": [],
   "source": [
    "def recommend_items(user_ratings, target_user):\n",
    "    # 获取用户-物品评分矩阵的维度\n",
    "    num_users, num_movies = user_ratings.shape\n",
    "\n",
    "    # 找到目标用户尚未评分的物品索引\n",
    "    unwatched_indices = np.where(user_ratings[target_user] == 0)[0]\n",
    "\n",
    "    # 预测目标用户对尚未评分物品的评分\n",
    "    predicted_ratings = [predict_rating(user_ratings, user_ratings[:, movie_index]) for movie_index in unwatched_indices]\n",
    "\n",
    "    # 根据预测评分对物品索引进行排序（降序）\n",
    "    sorted_indices = np.argsort(predicted_ratings)[::-1]\n",
    "\n",
    "    # 将排名前3的物品索引转换为物品名称\n",
    "    top_items = sorted_indices[:3]\n",
    "    # recommended_movies = [f\"Items {i+1}\" for i in top_items]\n",
    "\n",
    "    # 添加一个方法，转换成Itemname\n",
    "    recommended_movies = [user_item_matrix.columns[i] for i in top_items]\n",
    "    \n",
    "    return recommended_movies"
   ]
  },
  {
   "cell_type": "code",
   "execution_count": null,
   "metadata": {},
   "outputs": [],
   "source": [
    "total_precision = 0\n",
    "total_users = 0\n",
    "\n",
    "# 遍历所有用户，计算准确率\n",
    "for user in range(user_item_matrix_array.shape[0]):\n",
    "    recommended_items = recommend_items(user_item_matrix_array, user)\n",
    "    be_recommended_user = user_item_matrix_customers[user]\n",
    "    actual_items = test_data[test_data['CustomerID'] == be_recommended_user]['Itemname'].unique()\n",
    "\n",
    "    # 计算真正例和假正例\n",
    "    tp = len(set(recommended_items) & set(actual_items))\n",
    "    fp = len(recommended_items) - tp\n",
    "\n",
    "    # 计算准确率\n",
    "    if (tp + fp) > 0:\n",
    "        precision = tp / (tp + fp)\n",
    "        total_precision += precision\n",
    "        total_users += 1\n",
    "\n",
    "# 计算平均准确率\n",
    "average_precision = total_precision / total_users if total_users > 0 else 0\n",
    "\n",
    "print(\"Average Precision:\", average_precision)\n"
   ]
  }
 ],
 "metadata": {
  "kernelspec": {
   "display_name": "Python 3",
   "language": "python",
   "name": "python3"
  },
  "language_info": {
   "name": "python",
   "version": "3.9.6"
  },
  "orig_nbformat": 4
 },
 "nbformat": 4,
 "nbformat_minor": 2
}
