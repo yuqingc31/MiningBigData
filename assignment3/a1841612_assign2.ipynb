{
 "cells": [
  {
   "cell_type": "markdown",
   "metadata": {},
   "source": [
    "## 1. Read the dataset"
   ]
  },
  {
   "cell_type": "code",
   "execution_count": 22,
   "metadata": {},
   "outputs": [],
   "source": [
    "import pandas as pd\n",
    "\n",
    "train_data_original = pd.read_csv(\"basket_data_by_date_train.csv\")\n",
    "test_data_original = pd.read_csv(\"basket_data_by_date_test.csv\")\n",
    "\n",
    "train_data_big = pd.read_csv(\"basket_data_by_date_train_big.csv\")\n",
    "test_data_big = pd.read_csv(\"basket_data_by_date_test_big.csv\")"
   ]
  },
  {
   "cell_type": "markdown",
   "metadata": {},
   "source": [
    "Check the structure and content of the dataset"
   ]
  },
  {
   "cell_type": "code",
   "execution_count": 23,
   "metadata": {},
   "outputs": [
    {
     "name": "stdout",
     "output_type": "stream",
     "text": [
      "Train Data Info:\n",
      "<class 'pandas.core.frame.DataFrame'>\n",
      "RangeIndex: 40000 entries, 0 to 39999\n",
      "Data columns (total 7 columns):\n",
      " #   Column      Non-Null Count  Dtype  \n",
      "---  ------      --------------  -----  \n",
      " 0   BillNo      40000 non-null  int64  \n",
      " 1   Itemname    40000 non-null  object \n",
      " 2   Quantity    40000 non-null  int64  \n",
      " 3   Date        40000 non-null  object \n",
      " 4   Price       40000 non-null  float64\n",
      " 5   CustomerID  40000 non-null  int64  \n",
      " 6   cost        40000 non-null  float64\n",
      "dtypes: float64(2), int64(3), object(2)\n",
      "memory usage: 2.1+ MB\n",
      "None\n",
      "\n",
      "Test Data Info:\n",
      "<class 'pandas.core.frame.DataFrame'>\n",
      "RangeIndex: 40000 entries, 0 to 39999\n",
      "Data columns (total 7 columns):\n",
      " #   Column      Non-Null Count  Dtype  \n",
      "---  ------      --------------  -----  \n",
      " 0   BillNo      10000 non-null  float64\n",
      " 1   Itemname    10000 non-null  object \n",
      " 2   Quantity    10000 non-null  float64\n",
      " 3   Date        10000 non-null  object \n",
      " 4   Price       10000 non-null  float64\n",
      " 5   CustomerID  10000 non-null  float64\n",
      " 6   cost        10000 non-null  float64\n",
      "dtypes: float64(5), object(2)\n",
      "memory usage: 2.1+ MB\n",
      "None\n"
     ]
    }
   ],
   "source": [
    "print(\"Train Data Info:\")\n",
    "print(train_data_original.info())\n",
    "\n",
    "print(\"\\nTest Data Info:\")\n",
    "print(test_data_original.info())"
   ]
  },
  {
   "cell_type": "code",
   "execution_count": 16,
   "metadata": {},
   "outputs": [
    {
     "name": "stdout",
     "output_type": "stream",
     "text": [
      "Train Data big Info:\n",
      "<class 'pandas.core.frame.DataFrame'>\n",
      "RangeIndex: 200000 entries, 0 to 199999\n",
      "Data columns (total 7 columns):\n",
      " #   Column      Non-Null Count   Dtype  \n",
      "---  ------      --------------   -----  \n",
      " 0   BillNo      200000 non-null  int64  \n",
      " 1   Itemname    200000 non-null  object \n",
      " 2   Quantity    200000 non-null  int64  \n",
      " 3   Date        200000 non-null  object \n",
      " 4   Price       200000 non-null  float64\n",
      " 5   CustomerID  200000 non-null  int64  \n",
      " 6   cost        200000 non-null  float64\n",
      "dtypes: float64(2), int64(3), object(2)\n",
      "memory usage: 10.7+ MB\n",
      "None\n",
      "\n",
      "Test Data big Info:\n",
      "<class 'pandas.core.frame.DataFrame'>\n",
      "RangeIndex: 65326 entries, 0 to 65325\n",
      "Data columns (total 7 columns):\n",
      " #   Column      Non-Null Count  Dtype  \n",
      "---  ------      --------------  -----  \n",
      " 0   BillNo      65326 non-null  int64  \n",
      " 1   Itemname    65326 non-null  object \n",
      " 2   Quantity    65326 non-null  int64  \n",
      " 3   Date        65326 non-null  object \n",
      " 4   Price       65326 non-null  float64\n",
      " 5   CustomerID  65326 non-null  int64  \n",
      " 6   cost        65326 non-null  float64\n",
      "dtypes: float64(2), int64(3), object(2)\n",
      "memory usage: 3.5+ MB\n",
      "None\n"
     ]
    }
   ],
   "source": [
    "print(\"Train Data big Info:\")\n",
    "print(train_data_big.info())\n",
    "\n",
    "print(\"\\nTest Data big Info:\")\n",
    "print(test_data_big.info())"
   ]
  },
  {
   "cell_type": "markdown",
   "metadata": {},
   "source": [
    "\n",
    "Based on the information provided about the data, it can be seen that both the training and test sets contain seven columns, which are:\n",
    "\n",
    "BillNo, Itemname, Quantity, Date, Price, CustomerID, cost"
   ]
  },
  {
   "cell_type": "markdown",
   "metadata": {},
   "source": [
    "## 2. Handling of missing values"
   ]
  },
  {
   "cell_type": "code",
   "execution_count": 19,
   "metadata": {},
   "outputs": [
    {
     "name": "stdout",
     "output_type": "stream",
     "text": [
      "Train Data Missing Values:\n",
      "BillNo        0\n",
      "Itemname      0\n",
      "Quantity      0\n",
      "Date          0\n",
      "Price         0\n",
      "CustomerID    0\n",
      "cost          0\n",
      "dtype: int64\n",
      "\n",
      "Test Data Missing Values:\n",
      "BillNo        30000\n",
      "Itemname      30000\n",
      "Quantity      30000\n",
      "Date          30000\n",
      "Price         30000\n",
      "CustomerID    30000\n",
      "cost          30000\n",
      "dtype: int64\n"
     ]
    }
   ],
   "source": [
    "# check if there are missing values in the train set\n",
    "print(\"Train Data Missing Values:\")\n",
    "print(train_data_original.isnull().sum())\n",
    "\n",
    "# check if there are missing values in the test set\n",
    "print(\"\\nTest Data Missing Values:\")\n",
    "print(test_data_original.isnull().sum())"
   ]
  },
  {
   "cell_type": "code",
   "execution_count": 20,
   "metadata": {},
   "outputs": [
    {
     "name": "stdout",
     "output_type": "stream",
     "text": [
      "Train Data Big Missing Values:\n",
      "BillNo        0\n",
      "Itemname      0\n",
      "Quantity      0\n",
      "Date          0\n",
      "Price         0\n",
      "CustomerID    0\n",
      "cost          0\n",
      "dtype: int64\n",
      "\n",
      "Test Data Big Missing Values:\n",
      "BillNo        0\n",
      "Itemname      0\n",
      "Quantity      0\n",
      "Date          0\n",
      "Price         0\n",
      "CustomerID    0\n",
      "cost          0\n",
      "dtype: int64\n"
     ]
    }
   ],
   "source": [
    "# check if there are missing values in the train set(big)\n",
    "print(\"Train Data Big Missing Values:\")\n",
    "print(train_data_big.isnull().sum())\n",
    "\n",
    "# check if there are missing values in the test set(big)\n",
    "print(\"\\nTest Data Big Missing Values:\")\n",
    "print(test_data_big.isnull().sum())"
   ]
  },
  {
   "cell_type": "markdown",
   "metadata": {},
   "source": [
    "The data shows that the dataset of Test Data contains a large number of missing values. So I will deal with these missing values."
   ]
  },
  {
   "cell_type": "code",
   "execution_count": null,
   "metadata": {},
   "outputs": [],
   "source": []
  }
 ],
 "metadata": {
  "kernelspec": {
   "display_name": "Python 3",
   "language": "python",
   "name": "python3"
  },
  "language_info": {
   "codemirror_mode": {
    "name": "ipython",
    "version": 3
   },
   "file_extension": ".py",
   "mimetype": "text/x-python",
   "name": "python",
   "nbconvert_exporter": "python",
   "pygments_lexer": "ipython3",
   "version": "3.9.6"
  },
  "orig_nbformat": 4
 },
 "nbformat": 4,
 "nbformat_minor": 2
}
