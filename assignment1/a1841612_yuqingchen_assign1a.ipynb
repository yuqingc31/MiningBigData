{
 "cells": [
  {
   "attachments": {
    "download.jfif": {
     "image/jpeg": "[encoded data removed]"
    }
   },
   "cell_type": "markdown",
   "id": "6730fecf",
   "metadata": {},
   "source": [
    "## Assignment 1a: Machine Learning Methods\n",
    "\n",
    "### \\yuqing chen \\a1841612\n",
    "\n",
    "#### How can we use data analytics to predict energy usage for this house?\n",
    "\n",
    "![download.jfif](attachment:download.jfif)\n",
    "\n",
    "#### Follow detail instructions in the assignment specification and use these heading for implementation and discussion"
   ]
  },
  {
   "cell_type": "markdown",
   "id": "3df2aac6",
   "metadata": {},
   "source": [
    "### 1. Read the dataset"
   ]
  },
  {
   "cell_type": "code",
   "execution_count": 3,
   "id": "e967e07b",
   "metadata": {},
   "outputs": [],
   "source": [
    "import pandas as pd\n",
    "\n",
    "file_path = 'energydata_complete.csv'\n",
    "data = pd.read_csv(file_path)"
   ]
  },
  {
   "cell_type": "markdown",
   "id": "31d75afc",
   "metadata": {},
   "source": [
    "### 2. Analyse and visualise the data\n",
    "Analyse and visualise the data.\n",
    "\n",
    "Identify data dependencies that might be useful for this task and visualise those dependencies using suitable techniques and charts.\n",
    "\n",
    "Use this analysis to select suitable processing and prediction models for data preprocessing and experimentation and justify your selection.\n",
    "\n",
    "Include the charts and diagrams together with the code in Jupyter Notebook.\n",
    "\n",
    "Make sure your charts are of good quality and useful, there is no point to make a chart or a table, if it is not referred to in your discussion. \n",
    "\n",
    "分析数据并将其可视化。\n",
    "\n",
    "确定可能对本任务有用的数据依赖关系，并使用适当的技术和图表将这些依赖关系可视化。\n",
    "\n",
    "利用该分析为数据预处理和实验选择合适的处理和预测模型，并说明选择的理由。\n",
    "\n",
    "在 Jupyter Notebook 中包含图表和代码。\n",
    "\n",
    "请确保您的图表质量上乘且有用，如果您在讨论中没有提到图表或表格，那么制作图表或表格就没有意义了。"
   ]
  },
  {
   "cell_type": "code",
   "execution_count": 4,
   "id": "2d286790",
   "metadata": {},
   "outputs": [
    {
     "name": "stdout",
     "output_type": "stream",
     "text": [
      "               date  Appliances  lights     T1       RH_1    T2       RH_2  \\\n",
      "0  11/01/2016 17:00          60      30  19.89  47.596667  19.2  44.790000   \n",
      "1  11/01/2016 17:10          60      30  19.89  46.693333  19.2  44.722500   \n",
      "2  11/01/2016 17:20          50      30  19.89  46.300000  19.2  44.626667   \n",
      "3  11/01/2016 17:30          50      40  19.89  46.066667  19.2  44.590000   \n",
      "4  11/01/2016 17:40          60      40  19.89  46.333333  19.2  44.530000   \n",
      "\n",
      "      T3       RH_3         T4  ...         T9   RH_9  T_out  Press_mm_hg  \\\n",
      "0  19.79  44.730000  19.000000  ...  17.033333  45.53   6.60        733.5   \n",
      "1  19.79  44.790000  19.000000  ...  17.066667  45.56   6.48        733.6   \n",
      "2  19.79  44.933333  18.926667  ...  17.000000  45.50   6.37        733.7   \n",
      "3  19.79  45.000000  18.890000  ...  17.000000  45.40   6.25        733.8   \n",
      "4  19.79  45.000000  18.890000  ...  17.000000  45.40   6.13        733.9   \n",
      "\n",
      "   RH_out  Windspeed  Visibility  Tdewpoint        rv1        rv2  \n",
      "0    92.0   7.000000   63.000000        5.3  13.275433  13.275433  \n",
      "1    92.0   6.666667   59.166667        5.2  18.606195  18.606195  \n",
      "2    92.0   6.333333   55.333333        5.1  28.642668  28.642668  \n",
      "3    92.0   6.000000   51.500000        5.0  45.410390  45.410390  \n",
      "4    92.0   5.666667   47.666667        4.9  10.084097  10.084097  \n",
      "\n",
      "[5 rows x 29 columns]\n"
     ]
    }
   ],
   "source": [
    "# Display the first few rows of data from the dataset\n",
    "print(data.head())"
   ]
  },
  {
   "cell_type": "markdown",
   "id": "49d0bf2a",
   "metadata": {},
   "source": [
    "### 3. Pre-process the data"
   ]
  },
  {
   "cell_type": "code",
   "execution_count": null,
   "id": "7241f20a",
   "metadata": {},
   "outputs": [],
   "source": []
  },
  {
   "cell_type": "markdown",
   "id": "333cefa8",
   "metadata": {},
   "source": [
    "### 4. Implement, train and test prediction models"
   ]
  },
  {
   "cell_type": "code",
   "execution_count": null,
   "id": "c292820d",
   "metadata": {},
   "outputs": [],
   "source": []
  },
  {
   "cell_type": "markdown",
   "id": "ba7ea3a2",
   "metadata": {},
   "source": [
    "### 5. Compare the results from all candidate models, choose the best model, justify your choice and discuss the results"
   ]
  },
  {
   "cell_type": "code",
   "execution_count": null,
   "id": "f47f0754",
   "metadata": {},
   "outputs": [],
   "source": []
  },
  {
   "cell_type": "markdown",
   "id": "8d9ff3f9",
   "metadata": {},
   "source": [
    "### 6. Reflect on what you have learned by completing this assignment and how to improve the models"
   ]
  },
  {
   "cell_type": "code",
   "execution_count": null,
   "id": "99cf2087",
   "metadata": {},
   "outputs": [],
   "source": []
  },
  {
   "cell_type": "markdown",
   "id": "9d3a91b4",
   "metadata": {},
   "source": [
    "### 7. References"
   ]
  },
  {
   "cell_type": "markdown",
   "id": "806dfc7f",
   "metadata": {},
   "source": []
  }
 ],
 "metadata": {
  "kernelspec": {
   "display_name": "Python 3 (ipykernel)",
   "language": "python",
   "name": "python3"
  },
  "language_info": {
   "codemirror_mode": {
    "name": "ipython",
    "version": 3
   },
   "file_extension": ".py",
   "mimetype": "text/x-python",
   "name": "python",
   "nbconvert_exporter": "python",
   "pygments_lexer": "ipython3",
   "version": "3.9.6"
  }
 },
 "nbformat": 4,
 "nbformat_minor": 5
}
